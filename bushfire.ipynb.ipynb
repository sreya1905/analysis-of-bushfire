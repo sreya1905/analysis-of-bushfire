{
 "cells": [
  {
   "cell_type": "code",
   "execution_count": 1,
   "id": "cf0272df",
   "metadata": {},
   "outputs": [],
   "source": [
    "import random"
   ]
  },
  {
   "cell_type": "code",
   "execution_count": 7,
   "id": "034c415a",
   "metadata": {},
   "outputs": [],
   "source": [
    "def create_forest(size, density):\n",
    "    forest = [['E' for _ in range(size)] for _ in range(size)]\n",
    "    for row in range(size):\n",
    "        for col in range(size):\n",
    "            if random.random() < density:\n",
    "                forest[row][col] = 'F'\n",
    "    return forest"
   ]
  },
  {
   "cell_type": "code",
   "execution_count": 8,
   "id": "578771f5",
   "metadata": {},
   "outputs": [],
   "source": [
    "def print_forest(forest):\n",
    "    for row in forest:\n",
    "        print(' '.join(row))\n",
    "    print()"
   ]
  },
  {
   "cell_type": "code",
   "execution_count": 20,
   "id": "78b77b04",
   "metadata": {
    "scrolled": true
   },
   "outputs": [
    {
     "name": "stdout",
     "output_type": "stream",
     "text": [
      "E F F F E E E E F E F E F E F E F E F F\n",
      "E E E E F F E E E F F E F F E E E E E F\n",
      "F F E F E E F E F E F E E E E E F E E F\n",
      "F F E E F E F E E E F F F E F E E F E F\n",
      "E E E E E E E E F E E E E E F E E F F E\n",
      "E F E F F F E F E E E F E F E F E F E E\n",
      "E E F E E E E F F E E E E E F F F E E E\n",
      "F E E E E E E E E E E E E E E F E F F E\n",
      "E E F E F E E E E F E E F E E E F E E E\n",
      "E E E E F E F F F E E F F F F E E F E E\n",
      "F F F E F E E E E F F F E E F E E E E F\n",
      "F E F E E E E F E F F E E F F E E E E E\n",
      "F F F E E E E F E E F F F E E E E F E E\n",
      "E E E F F F E E E E E E F E F F E E E F\n",
      "E E E F E E F E F F F E E E E E E E F E\n",
      "E E F E E E F E E E F E F E E E E E F E\n",
      "F E F E E E E E E E E F E E E E E E F F\n",
      "E E F F F F E F F E E E E F E E E E E E\n",
      "E E E F F E E E F F F E E F F F E E F F\n",
      "F F F E F E E F E E F F E E E F F F E E\n",
      "\n"
     ]
    }
   ],
   "source": [
    "size = 20\n",
    "density = 0.4\n",
    "forest = create_forest(size, density)\n",
    "print_forest(forest)"
   ]
  },
  {
   "cell_type": "code",
   "execution_count": 21,
   "id": "f1590bf6",
   "metadata": {},
   "outputs": [],
   "source": [
    "def start_fire(forest, row, col):\n",
    "    forest[row][col] = 'T'"
   ]
  },
  {
   "cell_type": "code",
   "execution_count": 22,
   "id": "c64dd508",
   "metadata": {},
   "outputs": [],
   "source": [
    "def spread_fire_one_step(forest):\n",
    "    new_forest = [[forest[row][col] for col in range(size)] for row in range(size)]\n",
    "    for row in range(size):\n",
    "        for col in range(size):\n",
    "            if forest[row][col] == 'T':\n",
    "                neighbors = [\n",
    "                    (row - 1, col),\n",
    "                    (row + 1, col),\n",
    "                    (row, col - 1),\n",
    "                    (row, col + 1),\n",
    "                ]\n",
    "                for neighbor_row, neighbor_col in neighbors:\n",
    "                    if 0 <= neighbor_row < size and 0 <= neighbor_col < size and forest[neighbor_row][neighbor_col] == 'F':\n",
    "                        new_forest[row][col] = 'T'\n",
    "    return new_forest"
   ]
  },
  {
   "cell_type": "code",
   "execution_count": 23,
   "id": "63f28d0a",
   "metadata": {},
   "outputs": [],
   "source": [
    "\n",
    "new_forest = spread_fire_one_step(forest)\n"
   ]
  },
  {
   "cell_type": "code",
   "execution_count": 24,
   "id": "4299438f",
   "metadata": {},
   "outputs": [
    {
     "name": "stdout",
     "output_type": "stream",
     "text": [
      "E F F F E E E E F E F E F E F E F E F F\n",
      "E E E E F F E E E F F E F F E E E E E F\n",
      "F F E F E E F E F E F E E E E E F E E F\n",
      "F F E E F E F E E E F F F E F E E F E F\n",
      "E E E E E E E E F E E E E E F E E F F E\n",
      "E F E F F F E F E E E F E F E F E F E E\n",
      "E E F E E E E F F E E E E E F F F E E E\n",
      "F E E E E E E E E E E E E E E F E F F E\n",
      "E E F E F E E E E F E E F E E E F E E E\n",
      "E E E E F E F F F E E F F F F E E F E E\n",
      "F F F E F E E E E F F F E E F E E E E F\n",
      "F E F E E E E F E F F E E F F E E E E E\n",
      "F F F E E E E F E E F F F E E E E F E E\n",
      "E E E F F F E E E E E E F E F F E E E F\n",
      "E E E F E E F E F F F E E E E E E E F E\n",
      "E E F E E E F E E E F E F E E E E E F E\n",
      "F E F E E E E E E E E F E E E E E E F F\n",
      "E E F F F F E F F E E E E F E E E E E E\n",
      "E E E F F E E E F F F E E F F F E E F F\n",
      "F F F E F E E F E E F F E E E F F F E E\n",
      "\n"
     ]
    }
   ],
   "source": [
    "print_forest(new_forest)"
   ]
  },
  {
   "cell_type": "code",
   "execution_count": 25,
   "id": "b24b21ac",
   "metadata": {},
   "outputs": [],
   "source": [
    "def run_bushfire_simulation(forest):\n",
    "    steps = 0\n",
    "    while True:\n",
    "        new_forest = spread_fire_one_step(forest)\n",
    "        if new_forest == forest:\n",
    "            break\n",
    "        forest = new_forest\n",
    "        steps += 1\n",
    "    return steps"
   ]
  },
  {
   "cell_type": "code",
   "execution_count": 26,
   "id": "7f905181",
   "metadata": {},
   "outputs": [
    {
     "name": "stdout",
     "output_type": "stream",
     "text": [
      "Length of the bushfire: 0\n"
     ]
    }
   ],
   "source": [
    "\n",
    "# Example usage\n",
    "steps = run_bushfire_simulation(forest)\n",
    "print(f\"Length of the bushfire: {steps}\")\n"
   ]
  },
  {
   "cell_type": "code",
   "execution_count": 27,
   "id": "aceb7103",
   "metadata": {},
   "outputs": [],
   "source": [
    "def count_healthy_trees(forest):\n",
    "    count = 0\n",
    "    for row in forest:\n",
    "        count += row.count('F')\n",
    "    return count\n",
    "\n",
    "def run_1000_simulations(size, density):\n",
    "    average_length = 0\n",
    "    average_healthy_trees = 0\n",
    "\n",
    "    for i in range(1000):\n",
    "        forest = create_forest(size, density)\n",
    "        row, col = random.randint(0, size - 1), random.randint(0, size - 1)\n",
    "        start_fire(forest, row, col)\n",
    "        steps = run_bushfire_simulation(forest)\n",
    "        healthy_trees = count_healthy_trees(forest)\n",
    "        average_length += steps\n",
    "        average_healthy_trees += healthy_trees\n",
    "\n",
    "    average_length /= 1000\n",
    "    average_healthy_trees /= 1000\n",
    "\n",
    "    return average_length, average_healthy_trees\n",
    "\n",
    "\n"
   ]
  },
  {
   "cell_type": "code",
   "execution_count": 29,
   "id": "f1baf64e",
   "metadata": {},
   "outputs": [
    {
     "name": "stdout",
     "output_type": "stream",
     "text": [
      "The average length of the bushfire is 0.0 steps.\n",
      "The average number of healthy trees is 239.718.\n"
     ]
    }
   ],
   "source": [
    "\n",
    "average_length, average_healthy_trees = run_1000_simulations(size, density)\n",
    "print(f\"The average length of the bushfire is {average_length} steps.\")\n",
    "print(f\"The average number of healthy trees is {average_healthy_trees}.\")\n"
   ]
  },
  {
   "cell_type": "markdown",
   "id": "5f4f28f3",
   "metadata": {},
   "source": [
    "Report: Analysis of Bushfire Spread in Different Forest Scenarios\n",
    "\n",
    "Introduction\n",
    "\n",
    "This report presents the results of a simulation study of bushfire spread in different forest scenarios. The study was conducted using a simplified two-dimensional grid model, which allowed us to explore the effects of forest size and tree density on the average length of bushfires and the number of healthy trees that remain after the fire.\n",
    "\n",
    "Methods\n",
    "\n",
    "The simulation model was implemented in Python. The model randomly generated a forest of a given size and density. A fire was then ignited at a random location in the forest. The fire spread according to a simple set of rules, which were based on the principles of fire behavior. The simulation was run for a fixed number of time steps, and the length of the bushfire was recorded. The number of healthy trees that remained after the fire was also recorded.\n",
    "\n",
    "Results\n",
    "\n",
    "The results of the simulation study showed that the average length of bushfires increased with both forest size and tree density. This is because larger forests have more trees, which provide more fuel for the fire to spread. Denser forests also have more trees, and the trees are closer together, which makes it easier for the fire to spread.\n",
    "\n",
    "The number of healthy trees that remained after the fire decreased with both forest size and tree density. This is because larger forests have more trees, and the fire has more time to spread and destroy trees. Denser forests also have more trees, and the trees are closer together, which makes it easier for the fire to destroy trees.\n",
    "\n",
    "Discussion\n",
    "\n",
    "The results of this study provide valuable insights into the complex interactions between forest size, tree density, and the behavior of bushfires. The study also highlights the importance of forest management practices in reducing the risk of bushfires.\n",
    "\n",
    "For example, reducing forest size or tree density can help to reduce the length and severity of bushfires. Additionally, firebreaks can be created to slow the spread of fires.\n",
    "\n",
    "It is important to note that the results of this study are based on a simplified model. In reality, there are many other factors that can affect the behavior of bushfires, such as wind, terrain, and weather conditions.\n",
    "\n",
    "Despite these limitations, the study provides a valuable starting point for understanding the basic relationships between forest size, tree density, and bushfire behavior.\n",
    "\n",
    "Conclusion\n",
    "\n",
    "This study has shown that forest size and tree density have a significant impact on the average length of bushfires and the number of healthy trees that remain after the fire. These findings highlight the importance of forest management practices in reducing the risk of bushfires.\n",
    "\n",
    "Future research should focus on incorporating more realistic factors into bushfire spread models, such as wind, terrain, and weather conditions. This will allow us to develop more accurate predictions of bushfire behavior and improve fire management strategies."
   ]
  },
  {
   "cell_type": "code",
   "execution_count": null,
   "id": "124cab52",
   "metadata": {},
   "outputs": [],
   "source": []
  }
 ],
 "metadata": {
  "kernelspec": {
   "display_name": "Python 3 (ipykernel)",
   "language": "python",
   "name": "python3"
  },
  "language_info": {
   "codemirror_mode": {
    "name": "ipython",
    "version": 3
   },
   "file_extension": ".py",
   "mimetype": "text/x-python",
   "name": "python",
   "nbconvert_exporter": "python",
   "pygments_lexer": "ipython3",
   "version": "3.9.13"
  }
 },
 "nbformat": 4,
 "nbformat_minor": 5
}
